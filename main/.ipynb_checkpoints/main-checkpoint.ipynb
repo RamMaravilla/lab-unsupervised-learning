{
 "cells": [
  {
   "cell_type": "markdown",
   "metadata": {},
   "source": [
    "# Before your start:\n",
    "- Read the README.md file\n",
    "- Comment as much as you can and use the resources in the README.md file\n",
    "- Happy learning!"
   ]
  },
  {
   "cell_type": "code",
   "execution_count": 4,
   "metadata": {},
   "outputs": [],
   "source": [
    "# Import your libraries:\n",
    "%matplotlib inline\n",
    "\n",
    "import matplotlib.pyplot as plt\n",
    "import numpy as np\n",
    "import pandas as pd"
   ]
  },
  {
   "cell_type": "markdown",
   "metadata": {},
   "source": [
    "# Challenge 1 - Import and Describe the Dataset\n",
    "\n",
    "In this lab, we will use a dataset containing information about customer preferences. We will look at how much each customer spends in a year on each subcategory in the grocery store and try to find similarities using clustering.\n",
    "\n",
    "The origin of the dataset is [here](https://archive.ics.uci.edu/ml/datasets/wholesale+customers)."
   ]
  },
  {
   "cell_type": "code",
   "execution_count": 5,
   "metadata": {},
   "outputs": [],
   "source": [
    "# loading the data:\n",
    "customers = pd.read_csv('../Wholesale customers data.csv')"
   ]
  },
  {
   "cell_type": "markdown",
   "metadata": {},
   "source": [
    "#### Explore the dataset with mathematical and visualization techniques. What do you find?\n",
    "\n",
    "Checklist:\n",
    "\n",
    "* What does each column mean?\n",
    "* Any categorical data to convert?\n",
    "* Any missing data to remove?\n",
    "* Column collinearity - any high correlations?\n",
    "* Descriptive statistics - any outliers to remove?\n",
    "* Column-wise data distribution - is the distribution skewed?\n",
    "* Etc.\n",
    "\n",
    "Additional info: Over a century ago, an Italian economist named Vilfredo Pareto discovered that roughly 20% of the customers account for 80% of the typical retail sales. This is called the [Pareto principle](https://en.wikipedia.org/wiki/Pareto_principle). Check if this dataset displays this characteristic."
   ]
  },
  {
   "cell_type": "code",
   "execution_count": 6,
   "metadata": {},
   "outputs": [
    {
     "data": {
      "text/plain": [
       "Channel             int64\n",
       "Region              int64\n",
       "Fresh               int64\n",
       "Milk                int64\n",
       "Grocery             int64\n",
       "Frozen              int64\n",
       "Detergents_Paper    int64\n",
       "Delicassen          int64\n",
       "dtype: object"
      ]
     },
     "execution_count": 6,
     "metadata": {},
     "output_type": "execute_result"
    }
   ],
   "source": [
    "# Your code here:\n",
    "customers.dtypes\n",
    "\n",
    "#No hay data categórica que convertir"
   ]
  },
  {
   "cell_type": "code",
   "execution_count": 8,
   "metadata": {},
   "outputs": [
    {
     "data": {
      "text/plain": [
       "Channel             0\n",
       "Region              0\n",
       "Fresh               0\n",
       "Milk                0\n",
       "Grocery             0\n",
       "Frozen              0\n",
       "Detergents_Paper    0\n",
       "Delicassen          0\n",
       "dtype: int64"
      ]
     },
     "execution_count": 8,
     "metadata": {},
     "output_type": "execute_result"
    }
   ],
   "source": [
    "# Your observations here\n",
    "customers.isnull().sum()\n",
    "\n",
    "#No hay data faltante que remover"
   ]
  },
  {
   "cell_type": "code",
   "execution_count": 11,
   "metadata": {},
   "outputs": [
    {
     "data": {
      "text/html": [
       "<div>\n",
       "<style scoped>\n",
       "    .dataframe tbody tr th:only-of-type {\n",
       "        vertical-align: middle;\n",
       "    }\n",
       "\n",
       "    .dataframe tbody tr th {\n",
       "        vertical-align: top;\n",
       "    }\n",
       "\n",
       "    .dataframe thead th {\n",
       "        text-align: right;\n",
       "    }\n",
       "</style>\n",
       "<table border=\"1\" class=\"dataframe\">\n",
       "  <thead>\n",
       "    <tr style=\"text-align: right;\">\n",
       "      <th></th>\n",
       "      <th>Channel</th>\n",
       "      <th>Region</th>\n",
       "      <th>Fresh</th>\n",
       "      <th>Milk</th>\n",
       "      <th>Grocery</th>\n",
       "      <th>Frozen</th>\n",
       "      <th>Detergents_Paper</th>\n",
       "      <th>Delicassen</th>\n",
       "    </tr>\n",
       "  </thead>\n",
       "  <tbody>\n",
       "    <tr>\n",
       "      <th>Channel</th>\n",
       "      <td>1.000000</td>\n",
       "      <td>0.062028</td>\n",
       "      <td>-0.169172</td>\n",
       "      <td>0.460720</td>\n",
       "      <td>0.608792</td>\n",
       "      <td>-0.202046</td>\n",
       "      <td>0.636026</td>\n",
       "      <td>0.056011</td>\n",
       "    </tr>\n",
       "    <tr>\n",
       "      <th>Region</th>\n",
       "      <td>0.062028</td>\n",
       "      <td>1.000000</td>\n",
       "      <td>0.055287</td>\n",
       "      <td>0.032288</td>\n",
       "      <td>0.007696</td>\n",
       "      <td>-0.021044</td>\n",
       "      <td>-0.001483</td>\n",
       "      <td>0.045212</td>\n",
       "    </tr>\n",
       "    <tr>\n",
       "      <th>Fresh</th>\n",
       "      <td>-0.169172</td>\n",
       "      <td>0.055287</td>\n",
       "      <td>1.000000</td>\n",
       "      <td>0.100510</td>\n",
       "      <td>-0.011854</td>\n",
       "      <td>0.345881</td>\n",
       "      <td>-0.101953</td>\n",
       "      <td>0.244690</td>\n",
       "    </tr>\n",
       "    <tr>\n",
       "      <th>Milk</th>\n",
       "      <td>0.460720</td>\n",
       "      <td>0.032288</td>\n",
       "      <td>0.100510</td>\n",
       "      <td>1.000000</td>\n",
       "      <td>0.728335</td>\n",
       "      <td>0.123994</td>\n",
       "      <td>0.661816</td>\n",
       "      <td>0.406368</td>\n",
       "    </tr>\n",
       "    <tr>\n",
       "      <th>Grocery</th>\n",
       "      <td>0.608792</td>\n",
       "      <td>0.007696</td>\n",
       "      <td>-0.011854</td>\n",
       "      <td>0.728335</td>\n",
       "      <td>1.000000</td>\n",
       "      <td>-0.040193</td>\n",
       "      <td>0.924641</td>\n",
       "      <td>0.205497</td>\n",
       "    </tr>\n",
       "    <tr>\n",
       "      <th>Frozen</th>\n",
       "      <td>-0.202046</td>\n",
       "      <td>-0.021044</td>\n",
       "      <td>0.345881</td>\n",
       "      <td>0.123994</td>\n",
       "      <td>-0.040193</td>\n",
       "      <td>1.000000</td>\n",
       "      <td>-0.131525</td>\n",
       "      <td>0.390947</td>\n",
       "    </tr>\n",
       "    <tr>\n",
       "      <th>Detergents_Paper</th>\n",
       "      <td>0.636026</td>\n",
       "      <td>-0.001483</td>\n",
       "      <td>-0.101953</td>\n",
       "      <td>0.661816</td>\n",
       "      <td>0.924641</td>\n",
       "      <td>-0.131525</td>\n",
       "      <td>1.000000</td>\n",
       "      <td>0.069291</td>\n",
       "    </tr>\n",
       "    <tr>\n",
       "      <th>Delicassen</th>\n",
       "      <td>0.056011</td>\n",
       "      <td>0.045212</td>\n",
       "      <td>0.244690</td>\n",
       "      <td>0.406368</td>\n",
       "      <td>0.205497</td>\n",
       "      <td>0.390947</td>\n",
       "      <td>0.069291</td>\n",
       "      <td>1.000000</td>\n",
       "    </tr>\n",
       "  </tbody>\n",
       "</table>\n",
       "</div>"
      ],
      "text/plain": [
       "                   Channel    Region     Fresh      Milk   Grocery    Frozen  \\\n",
       "Channel           1.000000  0.062028 -0.169172  0.460720  0.608792 -0.202046   \n",
       "Region            0.062028  1.000000  0.055287  0.032288  0.007696 -0.021044   \n",
       "Fresh            -0.169172  0.055287  1.000000  0.100510 -0.011854  0.345881   \n",
       "Milk              0.460720  0.032288  0.100510  1.000000  0.728335  0.123994   \n",
       "Grocery           0.608792  0.007696 -0.011854  0.728335  1.000000 -0.040193   \n",
       "Frozen           -0.202046 -0.021044  0.345881  0.123994 -0.040193  1.000000   \n",
       "Detergents_Paper  0.636026 -0.001483 -0.101953  0.661816  0.924641 -0.131525   \n",
       "Delicassen        0.056011  0.045212  0.244690  0.406368  0.205497  0.390947   \n",
       "\n",
       "                  Detergents_Paper  Delicassen  \n",
       "Channel                   0.636026    0.056011  \n",
       "Region                   -0.001483    0.045212  \n",
       "Fresh                    -0.101953    0.244690  \n",
       "Milk                      0.661816    0.406368  \n",
       "Grocery                   0.924641    0.205497  \n",
       "Frozen                   -0.131525    0.390947  \n",
       "Detergents_Paper          1.000000    0.069291  \n",
       "Delicassen                0.069291    1.000000  "
      ]
     },
     "execution_count": 11,
     "metadata": {},
     "output_type": "execute_result"
    }
   ],
   "source": [
    "customers.corr()"
   ]
  },
  {
   "cell_type": "code",
   "execution_count": 14,
   "metadata": {},
   "outputs": [
    {
     "data": {
      "text/html": [
       "<div>\n",
       "<style scoped>\n",
       "    .dataframe tbody tr th:only-of-type {\n",
       "        vertical-align: middle;\n",
       "    }\n",
       "\n",
       "    .dataframe tbody tr th {\n",
       "        vertical-align: top;\n",
       "    }\n",
       "\n",
       "    .dataframe thead th {\n",
       "        text-align: right;\n",
       "    }\n",
       "</style>\n",
       "<table border=\"1\" class=\"dataframe\">\n",
       "  <thead>\n",
       "    <tr style=\"text-align: right;\">\n",
       "      <th></th>\n",
       "      <th>count</th>\n",
       "      <th>mean</th>\n",
       "      <th>std</th>\n",
       "      <th>min</th>\n",
       "      <th>25%</th>\n",
       "      <th>50%</th>\n",
       "      <th>75%</th>\n",
       "      <th>max</th>\n",
       "    </tr>\n",
       "  </thead>\n",
       "  <tbody>\n",
       "    <tr>\n",
       "      <th>Channel</th>\n",
       "      <td>440.0</td>\n",
       "      <td>1.322727</td>\n",
       "      <td>0.468052</td>\n",
       "      <td>1.0</td>\n",
       "      <td>1.00</td>\n",
       "      <td>1.0</td>\n",
       "      <td>2.00</td>\n",
       "      <td>2.0</td>\n",
       "    </tr>\n",
       "    <tr>\n",
       "      <th>Region</th>\n",
       "      <td>440.0</td>\n",
       "      <td>2.543182</td>\n",
       "      <td>0.774272</td>\n",
       "      <td>1.0</td>\n",
       "      <td>2.00</td>\n",
       "      <td>3.0</td>\n",
       "      <td>3.00</td>\n",
       "      <td>3.0</td>\n",
       "    </tr>\n",
       "    <tr>\n",
       "      <th>Fresh</th>\n",
       "      <td>440.0</td>\n",
       "      <td>12000.297727</td>\n",
       "      <td>12647.328865</td>\n",
       "      <td>3.0</td>\n",
       "      <td>3127.75</td>\n",
       "      <td>8504.0</td>\n",
       "      <td>16933.75</td>\n",
       "      <td>112151.0</td>\n",
       "    </tr>\n",
       "    <tr>\n",
       "      <th>Milk</th>\n",
       "      <td>440.0</td>\n",
       "      <td>5796.265909</td>\n",
       "      <td>7380.377175</td>\n",
       "      <td>55.0</td>\n",
       "      <td>1533.00</td>\n",
       "      <td>3627.0</td>\n",
       "      <td>7190.25</td>\n",
       "      <td>73498.0</td>\n",
       "    </tr>\n",
       "    <tr>\n",
       "      <th>Grocery</th>\n",
       "      <td>440.0</td>\n",
       "      <td>7951.277273</td>\n",
       "      <td>9503.162829</td>\n",
       "      <td>3.0</td>\n",
       "      <td>2153.00</td>\n",
       "      <td>4755.5</td>\n",
       "      <td>10655.75</td>\n",
       "      <td>92780.0</td>\n",
       "    </tr>\n",
       "    <tr>\n",
       "      <th>Frozen</th>\n",
       "      <td>440.0</td>\n",
       "      <td>3071.931818</td>\n",
       "      <td>4854.673333</td>\n",
       "      <td>25.0</td>\n",
       "      <td>742.25</td>\n",
       "      <td>1526.0</td>\n",
       "      <td>3554.25</td>\n",
       "      <td>60869.0</td>\n",
       "    </tr>\n",
       "    <tr>\n",
       "      <th>Detergents_Paper</th>\n",
       "      <td>440.0</td>\n",
       "      <td>2881.493182</td>\n",
       "      <td>4767.854448</td>\n",
       "      <td>3.0</td>\n",
       "      <td>256.75</td>\n",
       "      <td>816.5</td>\n",
       "      <td>3922.00</td>\n",
       "      <td>40827.0</td>\n",
       "    </tr>\n",
       "    <tr>\n",
       "      <th>Delicassen</th>\n",
       "      <td>440.0</td>\n",
       "      <td>1524.870455</td>\n",
       "      <td>2820.105937</td>\n",
       "      <td>3.0</td>\n",
       "      <td>408.25</td>\n",
       "      <td>965.5</td>\n",
       "      <td>1820.25</td>\n",
       "      <td>47943.0</td>\n",
       "    </tr>\n",
       "  </tbody>\n",
       "</table>\n",
       "</div>"
      ],
      "text/plain": [
       "                  count          mean           std   min      25%     50%  \\\n",
       "Channel           440.0      1.322727      0.468052   1.0     1.00     1.0   \n",
       "Region            440.0      2.543182      0.774272   1.0     2.00     3.0   \n",
       "Fresh             440.0  12000.297727  12647.328865   3.0  3127.75  8504.0   \n",
       "Milk              440.0   5796.265909   7380.377175  55.0  1533.00  3627.0   \n",
       "Grocery           440.0   7951.277273   9503.162829   3.0  2153.00  4755.5   \n",
       "Frozen            440.0   3071.931818   4854.673333  25.0   742.25  1526.0   \n",
       "Detergents_Paper  440.0   2881.493182   4767.854448   3.0   256.75   816.5   \n",
       "Delicassen        440.0   1524.870455   2820.105937   3.0   408.25   965.5   \n",
       "\n",
       "                       75%       max  \n",
       "Channel               2.00       2.0  \n",
       "Region                3.00       3.0  \n",
       "Fresh             16933.75  112151.0  \n",
       "Milk               7190.25   73498.0  \n",
       "Grocery           10655.75   92780.0  \n",
       "Frozen             3554.25   60869.0  \n",
       "Detergents_Paper   3922.00   40827.0  \n",
       "Delicassen         1820.25   47943.0  "
      ]
     },
     "execution_count": 14,
     "metadata": {},
     "output_type": "execute_result"
    }
   ],
   "source": [
    "customers.describe().transpose()"
   ]
  },
  {
   "cell_type": "code",
   "execution_count": 21,
   "metadata": {},
   "outputs": [
    {
     "name": "stdout",
     "output_type": "stream",
     "text": [
      "<class 'pandas.core.frame.DataFrame'>\n",
      "RangeIndex: 440 entries, 0 to 439\n",
      "Data columns (total 8 columns):\n",
      "Channel             440 non-null int64\n",
      "Region              440 non-null int64\n",
      "Fresh               440 non-null int64\n",
      "Milk                440 non-null int64\n",
      "Grocery             440 non-null int64\n",
      "Frozen              440 non-null int64\n",
      "Detergents_Paper    440 non-null int64\n",
      "Delicassen          440 non-null int64\n",
      "dtypes: int64(8)\n",
      "memory usage: 27.6 KB\n"
     ]
    }
   ],
   "source": [
    "customers.info()"
   ]
  },
  {
   "cell_type": "markdown",
   "metadata": {},
   "source": [
    "# Challenge 2 - Data Cleaning and Transformation\n",
    "\n",
    "If your conclusion from the previous challenge is the data need cleaning/transformation, do it in the cells below. However, if your conclusion is the data need not be cleaned or transformed, feel free to skip this challenge. But if you do choose the latter, please provide rationale."
   ]
  },
  {
   "cell_type": "code",
   "execution_count": null,
   "metadata": {},
   "outputs": [],
   "source": [
    "# Your code here\n",
    "#No creo que se necesite transformar ninguna variable porque las 8 varables son int y no tienen nulls. Sin embargo,\n",
    "#me preocupa la magnitud de las variables"
   ]
  },
  {
   "cell_type": "markdown",
   "metadata": {},
   "source": [
    "# Challenge 3 - Data Preprocessing\n",
    "\n",
    "One problem with the dataset is the value ranges are remarkably different across various categories (e.g. `Fresh` and `Grocery` compared to `Detergents_Paper` and `Delicassen`). If you made this observation in the first challenge, you've done a great job! This means you not only completed the bonus questions in the previous Supervised Learning lab but also researched deep into [*feature scaling*](https://en.wikipedia.org/wiki/Feature_scaling). Keep on the good work!\n",
    "\n",
    "Diverse value ranges in different features could cause issues in our clustering. The way to reduce the problem is through feature scaling. We'll use this technique again with this dataset.\n",
    "\n",
    "#### We will use the `StandardScaler` from `sklearn.preprocessing` and scale our data. Read more about `StandardScaler` [here](https://scikit-learn.org/stable/modules/generated/sklearn.preprocessing.StandardScaler.html#sklearn.preprocessing.StandardScaler).\n",
    "\n",
    "*After scaling your data, assign the transformed data to a new variable `customers_scale`.*"
   ]
  },
  {
   "cell_type": "code",
   "execution_count": 38,
   "metadata": {},
   "outputs": [],
   "source": [
    "# Your import here:\n",
    "\n",
    "from sklearn.preprocessing import StandardScaler\n",
    "\n",
    "# Your code here:\n",
    "scaler = StandardScaler() #hacemos el machote del escalador\n",
    "\n",
    "#Aqui hacemos el fit, pero también los escalamos. Es importante volver a ponerle el nombre de las variables\n",
    "#dado que lo estoy forzando a ser un df\n",
    "customers_scale = pd.DataFrame(scaler.fit_transform(customers))"
   ]
  },
  {
   "cell_type": "code",
   "execution_count": 48,
   "metadata": {},
   "outputs": [
    {
     "data": {
      "text/plain": [
       "['Channel',\n",
       " 'Region',\n",
       " 'Fresh',\n",
       " 'Milk',\n",
       " 'Grocery',\n",
       " 'Frozen',\n",
       " 'Detergents_Paper',\n",
       " 'Delicassen']"
      ]
     },
     "execution_count": 48,
     "metadata": {},
     "output_type": "execute_result"
    }
   ],
   "source": [
    "#Aquí tenemos la lista de variables\n",
    "columns = list(customers.columns)\n",
    "columns"
   ]
  },
  {
   "cell_type": "code",
   "execution_count": 50,
   "metadata": {},
   "outputs": [],
   "source": [
    "#Les agregamos la lista de nombres a cada columna\n",
    "customers_scale.columns = columns"
   ]
  },
  {
   "cell_type": "code",
   "execution_count": 52,
   "metadata": {},
   "outputs": [
    {
     "data": {
      "text/html": [
       "<div>\n",
       "<style scoped>\n",
       "    .dataframe tbody tr th:only-of-type {\n",
       "        vertical-align: middle;\n",
       "    }\n",
       "\n",
       "    .dataframe tbody tr th {\n",
       "        vertical-align: top;\n",
       "    }\n",
       "\n",
       "    .dataframe thead th {\n",
       "        text-align: right;\n",
       "    }\n",
       "</style>\n",
       "<table border=\"1\" class=\"dataframe\">\n",
       "  <thead>\n",
       "    <tr style=\"text-align: right;\">\n",
       "      <th></th>\n",
       "      <th>count</th>\n",
       "      <th>mean</th>\n",
       "      <th>std</th>\n",
       "      <th>min</th>\n",
       "      <th>25%</th>\n",
       "      <th>50%</th>\n",
       "      <th>75%</th>\n",
       "      <th>max</th>\n",
       "    </tr>\n",
       "  </thead>\n",
       "  <tbody>\n",
       "    <tr>\n",
       "      <th>Channel</th>\n",
       "      <td>440.0</td>\n",
       "      <td>-2.452584e-16</td>\n",
       "      <td>1.001138</td>\n",
       "      <td>-0.690297</td>\n",
       "      <td>-0.690297</td>\n",
       "      <td>-0.690297</td>\n",
       "      <td>1.448652</td>\n",
       "      <td>1.448652</td>\n",
       "    </tr>\n",
       "    <tr>\n",
       "      <th>Region</th>\n",
       "      <td>440.0</td>\n",
       "      <td>-5.737834e-16</td>\n",
       "      <td>1.001138</td>\n",
       "      <td>-1.995342</td>\n",
       "      <td>-0.702337</td>\n",
       "      <td>0.590668</td>\n",
       "      <td>0.590668</td>\n",
       "      <td>0.590668</td>\n",
       "    </tr>\n",
       "    <tr>\n",
       "      <th>Fresh</th>\n",
       "      <td>440.0</td>\n",
       "      <td>-2.422305e-17</td>\n",
       "      <td>1.001138</td>\n",
       "      <td>-0.949683</td>\n",
       "      <td>-0.702334</td>\n",
       "      <td>-0.276760</td>\n",
       "      <td>0.390523</td>\n",
       "      <td>7.927738</td>\n",
       "    </tr>\n",
       "    <tr>\n",
       "      <th>Milk</th>\n",
       "      <td>440.0</td>\n",
       "      <td>-1.589638e-17</td>\n",
       "      <td>1.001138</td>\n",
       "      <td>-0.778795</td>\n",
       "      <td>-0.578306</td>\n",
       "      <td>-0.294258</td>\n",
       "      <td>0.189092</td>\n",
       "      <td>9.183650</td>\n",
       "    </tr>\n",
       "    <tr>\n",
       "      <th>Grocery</th>\n",
       "      <td>440.0</td>\n",
       "      <td>-6.030530e-17</td>\n",
       "      <td>1.001138</td>\n",
       "      <td>-0.837334</td>\n",
       "      <td>-0.610836</td>\n",
       "      <td>-0.336668</td>\n",
       "      <td>0.284911</td>\n",
       "      <td>8.936528</td>\n",
       "    </tr>\n",
       "    <tr>\n",
       "      <th>Frozen</th>\n",
       "      <td>440.0</td>\n",
       "      <td>1.135455e-17</td>\n",
       "      <td>1.001138</td>\n",
       "      <td>-0.628343</td>\n",
       "      <td>-0.480431</td>\n",
       "      <td>-0.318804</td>\n",
       "      <td>0.099464</td>\n",
       "      <td>11.919002</td>\n",
       "    </tr>\n",
       "    <tr>\n",
       "      <th>Detergents_Paper</th>\n",
       "      <td>440.0</td>\n",
       "      <td>-1.917658e-17</td>\n",
       "      <td>1.001138</td>\n",
       "      <td>-0.604416</td>\n",
       "      <td>-0.551135</td>\n",
       "      <td>-0.433600</td>\n",
       "      <td>0.218482</td>\n",
       "      <td>7.967672</td>\n",
       "    </tr>\n",
       "    <tr>\n",
       "      <th>Delicassen</th>\n",
       "      <td>440.0</td>\n",
       "      <td>-8.276208e-17</td>\n",
       "      <td>1.001138</td>\n",
       "      <td>-0.540264</td>\n",
       "      <td>-0.396401</td>\n",
       "      <td>-0.198577</td>\n",
       "      <td>0.104860</td>\n",
       "      <td>16.478447</td>\n",
       "    </tr>\n",
       "  </tbody>\n",
       "</table>\n",
       "</div>"
      ],
      "text/plain": [
       "                  count          mean       std       min       25%       50%  \\\n",
       "Channel           440.0 -2.452584e-16  1.001138 -0.690297 -0.690297 -0.690297   \n",
       "Region            440.0 -5.737834e-16  1.001138 -1.995342 -0.702337  0.590668   \n",
       "Fresh             440.0 -2.422305e-17  1.001138 -0.949683 -0.702334 -0.276760   \n",
       "Milk              440.0 -1.589638e-17  1.001138 -0.778795 -0.578306 -0.294258   \n",
       "Grocery           440.0 -6.030530e-17  1.001138 -0.837334 -0.610836 -0.336668   \n",
       "Frozen            440.0  1.135455e-17  1.001138 -0.628343 -0.480431 -0.318804   \n",
       "Detergents_Paper  440.0 -1.917658e-17  1.001138 -0.604416 -0.551135 -0.433600   \n",
       "Delicassen        440.0 -8.276208e-17  1.001138 -0.540264 -0.396401 -0.198577   \n",
       "\n",
       "                       75%        max  \n",
       "Channel           1.448652   1.448652  \n",
       "Region            0.590668   0.590668  \n",
       "Fresh             0.390523   7.927738  \n",
       "Milk              0.189092   9.183650  \n",
       "Grocery           0.284911   8.936528  \n",
       "Frozen            0.099464  11.919002  \n",
       "Detergents_Paper  0.218482   7.967672  \n",
       "Delicassen        0.104860  16.478447  "
      ]
     },
     "execution_count": 52,
     "metadata": {},
     "output_type": "execute_result"
    }
   ],
   "source": [
    "#Verificamos que estén los nombres de las columnas\n",
    "customers_scale.describe().transpose() "
   ]
  },
  {
   "cell_type": "code",
   "execution_count": 56,
   "metadata": {},
   "outputs": [
    {
     "name": "stdout",
     "output_type": "stream",
     "text": [
      "<class 'pandas.core.frame.DataFrame'>\n",
      "RangeIndex: 440 entries, 0 to 439\n",
      "Data columns (total 8 columns):\n",
      "Channel             440 non-null float64\n",
      "Region              440 non-null float64\n",
      "Fresh               440 non-null float64\n",
      "Milk                440 non-null float64\n",
      "Grocery             440 non-null float64\n",
      "Frozen              440 non-null float64\n",
      "Detergents_Paper    440 non-null float64\n",
      "Delicassen          440 non-null float64\n",
      "dtypes: float64(8)\n",
      "memory usage: 27.6 KB\n"
     ]
    }
   ],
   "source": [
    "customers_scale.info() #no se perdió ninguna información"
   ]
  },
  {
   "cell_type": "code",
   "execution_count": 59,
   "metadata": {},
   "outputs": [
    {
     "data": {
      "text/plain": [
       "<matplotlib.axes._subplots.AxesSubplot at 0x20b2506ceb8>"
      ]
     },
     "execution_count": 59,
     "metadata": {},
     "output_type": "execute_result"
    },
    {
     "data": {
      "image/png": "[encoded data removed]",
      "text/plain": [
       "<Figure size 864x720 with 1 Axes>"
      ]
     },
     "metadata": {
      "needs_background": "light"
     },
     "output_type": "display_data"
    }
   ],
   "source": [
    "#Corroboramos que no hay tanta diferencia en la magnitud de las variables haciendo boxplots\n",
    "customers_scale.boxplot(figsize=(12,10))\n",
    "\n",
    "#Vemos que más o menos se parecen. Hay algunos outliers, pero tampoco tantísimos"
   ]
  },
  {
   "cell_type": "markdown",
   "metadata": {},
   "source": [
    "# Challenge 3 - Data Clustering with K-Means\n",
    "\n",
    "Now let's cluster the data with K-Means first. Initiate the K-Means model, then fit your scaled data. In the data returned from the `.fit` method, there is an attribute called `labels_` which is the cluster number assigned to each data record. What you can do is to assign these labels back to `customers` in a new column called `customers['labels']`. Then you'll see the cluster results of the original data."
   ]
  },
  {
   "cell_type": "code",
   "execution_count": 64,
   "metadata": {
    "scrolled": true
   },
   "outputs": [],
   "source": [
    "# Your code here:\n",
    "from sklearn.cluster import KMeans\n",
    "\n",
    "#Ejeplo casa\n",
    "#km = KMeans(n_clusters = 5, init=\"random\", n_init=10, max_iter=300, tol=1e-04, random_state=0)\n",
    "\n",
    "k_model = KMeans() #No le ponemos parámetros por el momento. Aquí está la documentación de KMeans en caso de que\n",
    "#necesites saber más https://scikit-learn.org/stable/modules/generated/sklearn.cluster.KMeans.html\n",
    "\n",
    "y_k_model = k_model.fit(customers_scale) #entrenamos el modelo con la base que acabamos de entrenar"
   ]
  },
  {
   "cell_type": "markdown",
   "metadata": {},
   "source": [
    "Count the values in `labels`."
   ]
  },
  {
   "cell_type": "code",
   "execution_count": 74,
   "metadata": {},
   "outputs": [
    {
     "data": {
      "text/plain": [
       "5      1\n",
       "6      2\n",
       "2      4\n",
       "7     33\n",
       "0     41\n",
       "3     86\n",
       "1     98\n",
       "4    175\n",
       "Name: labels, dtype: int64"
      ]
     },
     "execution_count": 74,
     "metadata": {},
     "output_type": "execute_result"
    }
   ],
   "source": [
    "# Your code here:\n",
    "\n",
    "#Agregamos la variable de labels para después contar sus valores. Pregunta: por qué se agregó a customers y no\n",
    "#a customers_scale?\n",
    "customers[\"labels\"] = y_k_model.labels_\n",
    "\n",
    "#Después sacamos la cuenta y acomodamos los valores\n",
    "customers.labels.value_counts().sort_values()"
   ]
  },
  {
   "cell_type": "markdown",
   "metadata": {},
   "source": [
    "# Challenge 4 - Data Clustering with DBSCAN\n",
    "\n",
    "Now let's cluster the data using DBSCAN. Use `DBSCAN(eps=0.5)` to initiate the model, then fit your scaled data. In the data returned from the `.fit` method, assign the `labels_` back to `customers['labels_DBSCAN']`. Now your original data have two labels, one from K-Means and the other from DBSCAN."
   ]
  },
  {
   "cell_type": "code",
   "execution_count": 76,
   "metadata": {
    "scrolled": true
   },
   "outputs": [],
   "source": [
    "# Your code here\n",
    "from sklearn.cluster import DBSCAN"
   ]
  },
  {
   "cell_type": "code",
   "execution_count": 78,
   "metadata": {},
   "outputs": [],
   "source": [
    "dbscan_model = DBSCAN(eps=0.5)  #crea machote de modelo\n",
    "dbscan_model.fit(customers_scale) #entrena el modelo\n",
    "\n",
    "#Agregamos a customers las labels del modelo DBSCAN\n",
    "customers[\"labels_DBSCAN\"] = dbscan_model.labels_"
   ]
  },
  {
   "cell_type": "markdown",
   "metadata": {},
   "source": [
    "Count the values in `labels_DBSCAN`."
   ]
  },
  {
   "cell_type": "code",
   "execution_count": 80,
   "metadata": {},
   "outputs": [
    {
     "data": {
      "text/plain": [
       " 2      5\n",
       " 7      5\n",
       " 3      5\n",
       " 0      5\n",
       " 6      6\n",
       " 4      7\n",
       " 5     22\n",
       " 1    130\n",
       "-1    255\n",
       "Name: labels_DBSCAN, dtype: int64"
      ]
     },
     "execution_count": 80,
     "metadata": {},
     "output_type": "execute_result"
    }
   ],
   "source": [
    "# Your code here\n",
    "customers.labels_DBSCAN.value_counts().sort_values() #COUNT THE VALUES"
   ]
  },
  {
   "cell_type": "markdown",
   "metadata": {},
   "source": [
    "# Challenge 5 - Compare K-Means with DBSCAN\n",
    "\n",
    "Now we want to visually compare how K-Means and DBSCAN have clustered our data. We will create scatter plots for several columns. For each of the following column pairs, plot a scatter plot using `labels` and another using `labels_DBSCAN`. Put them side by side to compare. Which clustering algorithm makes better sense?\n",
    "\n",
    "Columns to visualize:\n",
    "\n",
    "* `Detergents_Paper` as X and `Milk` as y\n",
    "* `Grocery` as X and `Fresh` as y\n",
    "* `Frozen` as X and `Delicassen` as y"
   ]
  },
  {
   "cell_type": "markdown",
   "metadata": {},
   "source": [
    "Visualize `Detergents_Paper` as X and `Milk` as y by `labels` and `labels_DBSCAN` respectively"
   ]
  },
  {
   "cell_type": "code",
   "execution_count": 83,
   "metadata": {},
   "outputs": [],
   "source": [
    "# Your code here:\n",
    "import seaborn as sns"
   ]
  },
  {
   "cell_type": "code",
   "execution_count": 94,
   "metadata": {},
   "outputs": [
    {
     "data": {
      "text/plain": [
       "<matplotlib.axes._subplots.AxesSubplot at 0x20b2828e7b8>"
      ]
     },
     "execution_count": 94,
     "metadata": {},
     "output_type": "execute_result"
    },
    {
     "data": {
      "image/png": "[encoded data removed]",
      "text/plain": [
       "<Figure size 1080x720 with 2 Axes>"
      ]
     },
     "metadata": {},
     "output_type": "display_data"
    }
   ],
   "source": [
    "f, axes = plt.subplots(1, 2) #creamos un array que contenga los dos plots\n",
    "sns.set(rc={'figure.figsize':(10,15)}) #ponemos tamaño\n",
    "\n",
    "sns.scatterplot(y=\"Milk\", x= \"Detergents_Paper\", hue=\"labels\", data=customers, ax=axes[0])\n",
    "sns.scatterplot(y=\"Milk\", x= \"Detergents_Paper\", hue=\"labels_DBSCAN\", data=customers, ax=axes[1])\n"
   ]
  },
  {
   "cell_type": "markdown",
   "metadata": {},
   "source": [
    "Visualize `Grocery` as X and `Fresh` as y by `labels` and `labels_DBSCAN` respectively"
   ]
  },
  {
   "cell_type": "code",
   "execution_count": 102,
   "metadata": {},
   "outputs": [
    {
     "data": {
      "text/plain": [
       "<matplotlib.axes._subplots.AxesSubplot at 0x20b29615630>"
      ]
     },
     "execution_count": 102,
     "metadata": {},
     "output_type": "execute_result"
    },
    {
     "data": {
      "image/png": "[encoded data removed]",
      "text/plain": [
       "<Figure size 1080x720 with 2 Axes>"
      ]
     },
     "metadata": {},
     "output_type": "display_data"
    }
   ],
   "source": [
    "# Your code here:\n",
    "f, axes = plt.subplots(1, 2) #creamos un array que contenga los dos plots\n",
    "sns.set(rc={'figure.figsize':(20,10)}) #ponemos tamaño\n",
    "\n",
    "sns.scatterplot(y=\"Fresh\", x= \"Grocery\", hue=\"labels\", data=customers, ax=axes[0])\n",
    "sns.scatterplot(y=\"Fresh\", x= \"Grocery\", hue=\"labels_DBSCAN\", data=customers, ax=axes[1])\n"
   ]
  },
  {
   "cell_type": "markdown",
   "metadata": {},
   "source": [
    "Visualize `Frozen` as X and `Delicassen` as y by `labels` and `labels_DBSCAN` respectively"
   ]
  },
  {
   "cell_type": "code",
   "execution_count": 134,
   "metadata": {},
   "outputs": [
    {
     "data": {
      "text/plain": [
       "<matplotlib.axes._subplots.AxesSubplot at 0x20b2ce78f98>"
      ]
     },
     "execution_count": 134,
     "metadata": {},
     "output_type": "execute_result"
    },
    {
     "data": {
      "image/png": "[encoded data removed]",
      "text/plain": [
       "<Figure size 720x504 with 2 Axes>"
      ]
     },
     "metadata": {},
     "output_type": "display_data"
    }
   ],
   "source": [
    "# Your code here:\n",
    "# Your code here:\n",
    "f, axes = plt.subplots(1, 2) #creamos un array que contenga los dos plots\n",
    "sns.set(rc={'figure.figsize':(10,7)}) #ponemos tamaño\n",
    "\n",
    "sns.scatterplot(y=\"Delicassen\", x= \"Frozen\", hue=\"labels\", data=customers, ax=axes[0], palette = \"Greens\")\n",
    "sns.scatterplot(y=\"Delicassen\", x= \"Frozen\", hue=\"labels_DBSCAN\", data=customers, ax=axes[1], palette=\"Spectral\")\n",
    "\n",
    "#Intenté cambiar los colores, pero no me salió. palette=\"colorblind\" no funciona, por ejemplo"
   ]
  },
  {
   "cell_type": "markdown",
   "metadata": {},
   "source": [
    "Let's use a groupby to see how the mean differs between the groups. Group `customers` by `labels` and `labels_DBSCAN` respectively and compute the means for all columns."
   ]
  },
  {
   "cell_type": "code",
   "execution_count": 131,
   "metadata": {},
   "outputs": [
    {
     "data": {
      "text/html": [
       "<div>\n",
       "<style scoped>\n",
       "    .dataframe tbody tr th:only-of-type {\n",
       "        vertical-align: middle;\n",
       "    }\n",
       "\n",
       "    .dataframe tbody tr th {\n",
       "        vertical-align: top;\n",
       "    }\n",
       "\n",
       "    .dataframe thead th {\n",
       "        text-align: right;\n",
       "    }\n",
       "</style>\n",
       "<table border=\"1\" class=\"dataframe\">\n",
       "  <thead>\n",
       "    <tr style=\"text-align: right;\">\n",
       "      <th></th>\n",
       "      <th>Channel</th>\n",
       "      <th>Region</th>\n",
       "      <th>Fresh</th>\n",
       "      <th>Milk</th>\n",
       "      <th>Grocery</th>\n",
       "      <th>Frozen</th>\n",
       "      <th>Detergents_Paper</th>\n",
       "      <th>Delicassen</th>\n",
       "      <th>labels_DBSCAN</th>\n",
       "    </tr>\n",
       "    <tr>\n",
       "      <th>labels</th>\n",
       "      <th></th>\n",
       "      <th></th>\n",
       "      <th></th>\n",
       "      <th></th>\n",
       "      <th></th>\n",
       "      <th></th>\n",
       "      <th></th>\n",
       "      <th></th>\n",
       "      <th></th>\n",
       "    </tr>\n",
       "  </thead>\n",
       "  <tbody>\n",
       "    <tr>\n",
       "      <th>0</th>\n",
       "      <td>1.04878</td>\n",
       "      <td>2.780488</td>\n",
       "      <td>39870.292683</td>\n",
       "      <td>4916.853659</td>\n",
       "      <td>5740.585366</td>\n",
       "      <td>6566.926829</td>\n",
       "      <td>901.268293</td>\n",
       "      <td>2595.951220</td>\n",
       "      <td>-0.536585</td>\n",
       "    </tr>\n",
       "    <tr>\n",
       "      <th>1</th>\n",
       "      <td>2.00000</td>\n",
       "      <td>2.775510</td>\n",
       "      <td>8269.969388</td>\n",
       "      <td>7533.816327</td>\n",
       "      <td>11740.938776</td>\n",
       "      <td>1331.816327</td>\n",
       "      <td>4847.285714</td>\n",
       "      <td>1476.653061</td>\n",
       "      <td>-0.387755</td>\n",
       "    </tr>\n",
       "    <tr>\n",
       "      <th>2</th>\n",
       "      <td>2.00000</td>\n",
       "      <td>3.000000</td>\n",
       "      <td>29862.500000</td>\n",
       "      <td>53080.750000</td>\n",
       "      <td>60015.750000</td>\n",
       "      <td>3262.250000</td>\n",
       "      <td>27942.250000</td>\n",
       "      <td>3082.250000</td>\n",
       "      <td>-1.000000</td>\n",
       "    </tr>\n",
       "    <tr>\n",
       "      <th>3</th>\n",
       "      <td>1.05814</td>\n",
       "      <td>1.313953</td>\n",
       "      <td>10368.593023</td>\n",
       "      <td>3192.395349</td>\n",
       "      <td>4063.930233</td>\n",
       "      <td>3235.662791</td>\n",
       "      <td>867.732558</td>\n",
       "      <td>1107.662791</td>\n",
       "      <td>1.488372</td>\n",
       "    </tr>\n",
       "    <tr>\n",
       "      <th>4</th>\n",
       "      <td>1.00000</td>\n",
       "      <td>3.000000</td>\n",
       "      <td>8816.377143</td>\n",
       "      <td>2952.085714</td>\n",
       "      <td>3427.154286</td>\n",
       "      <td>2680.851429</td>\n",
       "      <td>774.268571</td>\n",
       "      <td>1006.748571</td>\n",
       "      <td>0.462857</td>\n",
       "    </tr>\n",
       "    <tr>\n",
       "      <th>5</th>\n",
       "      <td>1.00000</td>\n",
       "      <td>3.000000</td>\n",
       "      <td>36847.000000</td>\n",
       "      <td>43950.000000</td>\n",
       "      <td>20170.000000</td>\n",
       "      <td>36534.000000</td>\n",
       "      <td>239.000000</td>\n",
       "      <td>47943.000000</td>\n",
       "      <td>-1.000000</td>\n",
       "    </tr>\n",
       "    <tr>\n",
       "      <th>6</th>\n",
       "      <td>1.00000</td>\n",
       "      <td>2.500000</td>\n",
       "      <td>22015.500000</td>\n",
       "      <td>9937.000000</td>\n",
       "      <td>7844.000000</td>\n",
       "      <td>47939.000000</td>\n",
       "      <td>671.500000</td>\n",
       "      <td>4153.500000</td>\n",
       "      <td>-1.000000</td>\n",
       "    </tr>\n",
       "    <tr>\n",
       "      <th>7</th>\n",
       "      <td>2.00000</td>\n",
       "      <td>2.272727</td>\n",
       "      <td>6063.606061</td>\n",
       "      <td>16458.909091</td>\n",
       "      <td>26891.363636</td>\n",
       "      <td>1788.212121</td>\n",
       "      <td>13102.969697</td>\n",
       "      <td>2417.515152</td>\n",
       "      <td>-1.000000</td>\n",
       "    </tr>\n",
       "  </tbody>\n",
       "</table>\n",
       "</div>"
      ],
      "text/plain": [
       "        Channel    Region         Fresh          Milk       Grocery  \\\n",
       "labels                                                                \n",
       "0       1.04878  2.780488  39870.292683   4916.853659   5740.585366   \n",
       "1       2.00000  2.775510   8269.969388   7533.816327  11740.938776   \n",
       "2       2.00000  3.000000  29862.500000  53080.750000  60015.750000   \n",
       "3       1.05814  1.313953  10368.593023   3192.395349   4063.930233   \n",
       "4       1.00000  3.000000   8816.377143   2952.085714   3427.154286   \n",
       "5       1.00000  3.000000  36847.000000  43950.000000  20170.000000   \n",
       "6       1.00000  2.500000  22015.500000   9937.000000   7844.000000   \n",
       "7       2.00000  2.272727   6063.606061  16458.909091  26891.363636   \n",
       "\n",
       "              Frozen  Detergents_Paper    Delicassen  labels_DBSCAN  \n",
       "labels                                                               \n",
       "0        6566.926829        901.268293   2595.951220      -0.536585  \n",
       "1        1331.816327       4847.285714   1476.653061      -0.387755  \n",
       "2        3262.250000      27942.250000   3082.250000      -1.000000  \n",
       "3        3235.662791        867.732558   1107.662791       1.488372  \n",
       "4        2680.851429        774.268571   1006.748571       0.462857  \n",
       "5       36534.000000        239.000000  47943.000000      -1.000000  \n",
       "6       47939.000000        671.500000   4153.500000      -1.000000  \n",
       "7        1788.212121      13102.969697   2417.515152      -1.000000  "
      ]
     },
     "execution_count": 131,
     "metadata": {},
     "output_type": "execute_result"
    }
   ],
   "source": [
    "# Your code here:\n",
    "#customers.groupby([\"label\"])\n",
    "customers.groupby(['labels']).mean()"
   ]
  },
  {
   "cell_type": "code",
   "execution_count": 132,
   "metadata": {},
   "outputs": [
    {
     "data": {
      "text/html": [
       "<div>\n",
       "<style scoped>\n",
       "    .dataframe tbody tr th:only-of-type {\n",
       "        vertical-align: middle;\n",
       "    }\n",
       "\n",
       "    .dataframe tbody tr th {\n",
       "        vertical-align: top;\n",
       "    }\n",
       "\n",
       "    .dataframe thead th {\n",
       "        text-align: right;\n",
       "    }\n",
       "</style>\n",
       "<table border=\"1\" class=\"dataframe\">\n",
       "  <thead>\n",
       "    <tr style=\"text-align: right;\">\n",
       "      <th></th>\n",
       "      <th>Channel</th>\n",
       "      <th>Region</th>\n",
       "      <th>Fresh</th>\n",
       "      <th>Milk</th>\n",
       "      <th>Grocery</th>\n",
       "      <th>Frozen</th>\n",
       "      <th>Detergents_Paper</th>\n",
       "      <th>Delicassen</th>\n",
       "      <th>labels</th>\n",
       "    </tr>\n",
       "    <tr>\n",
       "      <th>labels_DBSCAN</th>\n",
       "      <th></th>\n",
       "      <th></th>\n",
       "      <th></th>\n",
       "      <th></th>\n",
       "      <th></th>\n",
       "      <th></th>\n",
       "      <th></th>\n",
       "      <th></th>\n",
       "      <th></th>\n",
       "    </tr>\n",
       "  </thead>\n",
       "  <tbody>\n",
       "    <tr>\n",
       "      <th>-1</th>\n",
       "      <td>1.490196</td>\n",
       "      <td>2.45098</td>\n",
       "      <td>13729.564706</td>\n",
       "      <td>8359.886275</td>\n",
       "      <td>11484.364706</td>\n",
       "      <td>3795.003922</td>\n",
       "      <td>4356.800000</td>\n",
       "      <td>2080.470588</td>\n",
       "      <td>2.682353</td>\n",
       "    </tr>\n",
       "    <tr>\n",
       "      <th>0</th>\n",
       "      <td>2.000000</td>\n",
       "      <td>3.00000</td>\n",
       "      <td>11401.000000</td>\n",
       "      <td>3536.200000</td>\n",
       "      <td>6729.000000</td>\n",
       "      <td>720.200000</td>\n",
       "      <td>3561.000000</td>\n",
       "      <td>258.200000</td>\n",
       "      <td>1.000000</td>\n",
       "    </tr>\n",
       "    <tr>\n",
       "      <th>1</th>\n",
       "      <td>1.000000</td>\n",
       "      <td>3.00000</td>\n",
       "      <td>9128.823077</td>\n",
       "      <td>1862.438462</td>\n",
       "      <td>2423.530769</td>\n",
       "      <td>2131.430769</td>\n",
       "      <td>496.576923</td>\n",
       "      <td>741.946154</td>\n",
       "      <td>3.938462</td>\n",
       "    </tr>\n",
       "    <tr>\n",
       "      <th>2</th>\n",
       "      <td>1.000000</td>\n",
       "      <td>3.00000</td>\n",
       "      <td>41446.600000</td>\n",
       "      <td>1421.200000</td>\n",
       "      <td>2167.600000</td>\n",
       "      <td>1276.400000</td>\n",
       "      <td>416.200000</td>\n",
       "      <td>784.800000</td>\n",
       "      <td>0.000000</td>\n",
       "    </tr>\n",
       "    <tr>\n",
       "      <th>3</th>\n",
       "      <td>2.000000</td>\n",
       "      <td>3.00000</td>\n",
       "      <td>2357.200000</td>\n",
       "      <td>10224.800000</td>\n",
       "      <td>11862.800000</td>\n",
       "      <td>609.600000</td>\n",
       "      <td>5780.000000</td>\n",
       "      <td>572.800000</td>\n",
       "      <td>1.000000</td>\n",
       "    </tr>\n",
       "    <tr>\n",
       "      <th>4</th>\n",
       "      <td>2.000000</td>\n",
       "      <td>3.00000</td>\n",
       "      <td>3068.142857</td>\n",
       "      <td>6095.857143</td>\n",
       "      <td>10355.000000</td>\n",
       "      <td>994.000000</td>\n",
       "      <td>4675.571429</td>\n",
       "      <td>1826.428571</td>\n",
       "      <td>1.000000</td>\n",
       "    </tr>\n",
       "    <tr>\n",
       "      <th>5</th>\n",
       "      <td>1.000000</td>\n",
       "      <td>1.00000</td>\n",
       "      <td>9837.863636</td>\n",
       "      <td>1751.863636</td>\n",
       "      <td>2161.681818</td>\n",
       "      <td>1513.181818</td>\n",
       "      <td>333.954545</td>\n",
       "      <td>669.045455</td>\n",
       "      <td>3.000000</td>\n",
       "    </tr>\n",
       "    <tr>\n",
       "      <th>6</th>\n",
       "      <td>1.000000</td>\n",
       "      <td>1.00000</td>\n",
       "      <td>6823.000000</td>\n",
       "      <td>1943.000000</td>\n",
       "      <td>2372.666667</td>\n",
       "      <td>6780.333333</td>\n",
       "      <td>386.500000</td>\n",
       "      <td>613.666667</td>\n",
       "      <td>3.000000</td>\n",
       "    </tr>\n",
       "    <tr>\n",
       "      <th>7</th>\n",
       "      <td>1.000000</td>\n",
       "      <td>2.00000</td>\n",
       "      <td>7494.600000</td>\n",
       "      <td>1537.600000</td>\n",
       "      <td>3383.000000</td>\n",
       "      <td>2575.400000</td>\n",
       "      <td>227.400000</td>\n",
       "      <td>941.000000</td>\n",
       "      <td>3.000000</td>\n",
       "    </tr>\n",
       "  </tbody>\n",
       "</table>\n",
       "</div>"
      ],
      "text/plain": [
       "                Channel   Region         Fresh          Milk       Grocery  \\\n",
       "labels_DBSCAN                                                                \n",
       "-1             1.490196  2.45098  13729.564706   8359.886275  11484.364706   \n",
       " 0             2.000000  3.00000  11401.000000   3536.200000   6729.000000   \n",
       " 1             1.000000  3.00000   9128.823077   1862.438462   2423.530769   \n",
       " 2             1.000000  3.00000  41446.600000   1421.200000   2167.600000   \n",
       " 3             2.000000  3.00000   2357.200000  10224.800000  11862.800000   \n",
       " 4             2.000000  3.00000   3068.142857   6095.857143  10355.000000   \n",
       " 5             1.000000  1.00000   9837.863636   1751.863636   2161.681818   \n",
       " 6             1.000000  1.00000   6823.000000   1943.000000   2372.666667   \n",
       " 7             1.000000  2.00000   7494.600000   1537.600000   3383.000000   \n",
       "\n",
       "                    Frozen  Detergents_Paper   Delicassen    labels  \n",
       "labels_DBSCAN                                                        \n",
       "-1             3795.003922       4356.800000  2080.470588  2.682353  \n",
       " 0              720.200000       3561.000000   258.200000  1.000000  \n",
       " 1             2131.430769        496.576923   741.946154  3.938462  \n",
       " 2             1276.400000        416.200000   784.800000  0.000000  \n",
       " 3              609.600000       5780.000000   572.800000  1.000000  \n",
       " 4              994.000000       4675.571429  1826.428571  1.000000  \n",
       " 5             1513.181818        333.954545   669.045455  3.000000  \n",
       " 6             6780.333333        386.500000   613.666667  3.000000  \n",
       " 7             2575.400000        227.400000   941.000000  3.000000  "
      ]
     },
     "execution_count": 132,
     "metadata": {},
     "output_type": "execute_result"
    }
   ],
   "source": [
    "customers.groupby(['labels_DBSCAN']).mean()"
   ]
  },
  {
   "cell_type": "markdown",
   "metadata": {},
   "source": [
    "Which algorithm appears to perform better?"
   ]
  },
  {
   "cell_type": "code",
   "execution_count": null,
   "metadata": {},
   "outputs": [],
   "source": [
    "# Your observations here\n",
    "\n",
    "#No sé qué algoritmo parece tener mejor desempeño. Necesito preguntar esto. "
   ]
  },
  {
   "cell_type": "markdown",
   "metadata": {},
   "source": [
    "# Bonus Challenge 2 - Changing K-Means Number of Clusters\n",
    "\n",
    "As we mentioned earlier, we don't need to worry about the number of clusters with DBSCAN because it automatically decides that based on the parameters we send to it. But with K-Means, we have to supply the `n_clusters` param (if you don't supply `n_clusters`, the algorithm will use `8` by default). You need to know that the optimal number of clusters differs case by case based on the dataset. K-Means can perform badly if the wrong number of clusters is used.\n",
    "\n",
    "In advanced machine learning, data scientists try different numbers of clusters and evaluate the results with statistical measures (read [here](https://en.wikipedia.org/wiki/Cluster_analysis#External_evaluation)). We are not using statistical measures today but we'll use our eyes instead. In the cells below, experiment with different number of clusters and visualize with scatter plots. What number of clusters seems to work best for K-Means?"
   ]
  },
  {
   "cell_type": "code",
   "execution_count": null,
   "metadata": {},
   "outputs": [],
   "source": [
    "# Your code here"
   ]
  },
  {
   "cell_type": "code",
   "execution_count": null,
   "metadata": {},
   "outputs": [],
   "source": [
    "# Your comment here"
   ]
  },
  {
   "cell_type": "markdown",
   "metadata": {},
   "source": [
    "# Bonus Challenge 3 - Changing DBSCAN `eps` and `min_samples`\n",
    "\n",
    "Experiment changing the `eps` and `min_samples` params for DBSCAN. See how the results differ with scatter plot visualization."
   ]
  },
  {
   "cell_type": "code",
   "execution_count": null,
   "metadata": {},
   "outputs": [],
   "source": [
    "# Your code here"
   ]
  },
  {
   "cell_type": "code",
   "execution_count": null,
   "metadata": {},
   "outputs": [],
   "source": [
    "# Your comment here"
   ]
  }
 ],
 "metadata": {
  "kernelspec": {
   "display_name": "Python 3",
   "language": "python",
   "name": "python3"
  },
  "language_info": {
   "codemirror_mode": {
    "name": "ipython",
    "version": 3
   },
   "file_extension": ".py",
   "mimetype": "text/x-python",
   "name": "python",
   "nbconvert_exporter": "python",
   "pygments_lexer": "ipython3",
   "version": "3.7.3"
  }
 },
 "nbformat": 4,
 "nbformat_minor": 2
}
